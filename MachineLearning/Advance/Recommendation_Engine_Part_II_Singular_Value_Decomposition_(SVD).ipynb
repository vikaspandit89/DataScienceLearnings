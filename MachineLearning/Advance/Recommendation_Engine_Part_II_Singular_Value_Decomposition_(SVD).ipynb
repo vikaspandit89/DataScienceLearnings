{
  "nbformat": 4,
  "nbformat_minor": 0,
  "metadata": {
    "kernelspec": {
      "display_name": "Python 3",
      "language": "python",
      "name": "python3"
    },
    "language_info": {
      "codemirror_mode": {
        "name": "ipython",
        "version": 3
      },
      "file_extension": ".py",
      "mimetype": "text/x-python",
      "name": "python",
      "nbconvert_exporter": "python",
      "pygments_lexer": "ipython3",
      "version": "3.6.7"
    },
    "colab": {
      "name": "Recommendation_Engine_Part_II_Singular_Value_Decomposition_(SVD).ipynb",
      "provenance": [],
      "collapsed_sections": []
    }
  },
  "cells": [
    {
      "cell_type": "markdown",
      "metadata": {
        "id": "7RORg0ZoxDtI",
        "colab_type": "text"
      },
      "source": [
        "<img src=\"https://github.com/insaid2018/Term-1/blob/master/Images/INSAID_Full%20Logo.png?raw=true\" width=\"240\" height=\"360\" />\n",
        "\n",
        "# Recommendation Engine Part II - Singular Value Decomposition (SVD)"
      ]
    },
    {
      "cell_type": "markdown",
      "metadata": {
        "id": "xmL8utc_xDtK",
        "colab_type": "text"
      },
      "source": [
        "## Table of Contents\n",
        "\n",
        "1. [Matrix Factorization](#section1)<br>\n",
        "2. [Let's understand what is SVD](#section2)<br>\n",
        "3. [What is the use of it?](#section3)<br>\n",
        "4. [Loading Data](#section4)<br>\n",
        "5. [Implementing Singular Vector Decoposition](#section5)<br>\n",
        "6. [Setting up SVD](#section6)<br>\n",
        "7. [Making Recommendations using SVD](#section7)<br>\n",
        "8. [Model Evaluation](#section8)<br>"
      ]
    },
    {
      "cell_type": "markdown",
      "metadata": {
        "id": "70fayXR0IjJD",
        "colab_type": "text"
      },
      "source": [
        "#### **Note: Kindly run this notebook on Google Colab to avoid Memory issues.**"
      ]
    },
    {
      "cell_type": "markdown",
      "metadata": {
        "id": "v-6Lb0n0xDtM",
        "colab_type": "text"
      },
      "source": [
        "<a id=section1></a>\n",
        "## 1. Matrix Factorization"
      ]
    },
    {
      "cell_type": "markdown",
      "metadata": {
        "id": "9QVG8BZDxDtN",
        "colab_type": "text"
      },
      "source": [
        "**Most important technique in recommendation system**<br><br>\n",
        "- When a user gives feedback to a cerrtain movie they saw, this collection of feedback can be collected in the form of a matrix.\n",
        "- Each row represents each users,\n",
        "- Each column represents different movies.\n",
        "- The matrix will be sparse since not everyone is going to watch every movies.\n",
        "\n",
        "<img src = \"https://raw.githubusercontent.com/insaid2018/Term-4/master/images/rec14.png\">\n",
        "\n",
        "The idea behind such models is that the preference of a user can be determined by a small number of hidden factors. We can call these factors as **Embeddings**.<br><br>"
      ]
    },
    {
      "cell_type": "markdown",
      "metadata": {
        "id": "kUG7L7D_xDtO",
        "colab_type": "text"
      },
      "source": [
        "<a id=section2></a>\n",
        "## 2. Let's understand what is SVD\n",
        "\n",
        "Singular Value Decomposition(SVD) is a variability localization technique in which we represent data in form of matrix and then reduce the number of columns it has in order to maximize loss of dimensionality while minimizing loss of variability in the data being processed.<br>\n",
        "Why wouldn’t the data be lost? The answer for that question is the essence of SVD.\n",
        "\n",
        "Basically, SVD breaks a matrix into three other matrices called u, v, and d.\n",
        "\n",
        "1- A is the real matrix with m*n elements.\n",
        "\n",
        "2- U is an Orthogonal matrix with m*m elements\n",
        "\n",
        "3- V is an Orthogonal matrix with n*n elements.\n",
        "\n",
        "4- D is a diagonal matrix with m*n elements.\n",
        "\n",
        "Orthogonal matrix is a matrix that does not get its properties changed if multiplied by other numbers.\n",
        "\n",
        "<img src = \"https://raw.githubusercontent.com/insaid2018/Term-4/master/images/svd.png\">"
      ]
    },
    {
      "cell_type": "markdown",
      "metadata": {
        "id": "kPKo_ve_xDtP",
        "colab_type": "text"
      },
      "source": [
        "<a id=section3></a>\n",
        "## 3. What is the use of it?\n",
        "\n",
        "When we decompose our matrix A into (U, D, V), a few left-most columns of all three matrices represent almost all the information we need to recover our actual data. For example 92% of the information in just 5% of total columns which is a pretty good deal given that you have reduced the size of your data set tremendously.\n",
        "\n",
        "This means that SVD found some relation between all the columns of the matrix A and represented this same information with fewer columns.\n",
        "\n",
        "The curse of dimensionality is no longer able to affect your performance.\n",
        "\n",
        "**Matrix decompostion can be formulated as  an optimization problem with loss functions and constraints**\n",
        "\n",
        "We can understand embeddings as low dimensional hidden factors for items and users.<br>\n",
        "Let's say, we have 5 dimensional (D or n_factors = 5) embeddings for both items and users. Then for user-X and movie-A, we can say those 5 numbers might represent 5 different characterestics about the movies, like:\n",
        "- How much movie-A is sci-fi intense?\n",
        "- How recent is the movie?\n",
        "- How much special effects ar in movie?\n",
        "- How dialogue drive is the movie?\n",
        "\n",
        "\n",
        "Like wise some numbers in user embedding matrix might represents,\n",
        "- How much does user-X like sci-fi movies?\n",
        "- How much does user-X like recent movies?\n",
        "\n",
        "<img src= \"https://raw.githubusercontent.com/insaid2018/Term-4/master/images/Shubham's%20crap.PNG\">\n",
        "\n",
        "- Source: [https://www.youtube.com/watch?v=ZspR5PZemcs](https://www.youtube.com/watch?v=ZspR5PZemcs)"
      ]
    },
    {
      "cell_type": "markdown",
      "metadata": {
        "id": "7khBXv0ZxDtQ",
        "colab_type": "text"
      },
      "source": [
        "<a id=section4></a>\n",
        "## 4. Loading Data"
      ]
    },
    {
      "cell_type": "code",
      "metadata": {
        "id": "H0cQBi6r1Chv",
        "colab_type": "code",
        "colab": {}
      },
      "source": [
        "# pip install scikit-surprise"
      ],
      "execution_count": 0,
      "outputs": []
    },
    {
      "cell_type": "code",
      "metadata": {
        "id": "Fw5PE_8qxDtR",
        "colab_type": "code",
        "colab": {}
      },
      "source": [
        "import pandas as pd\n",
        "import numpy as np\n",
        "import matplotlib.pyplot as plt\n",
        "\n",
        "# Reading ratings file\n",
        "# Ignore the timestamp column\n",
        "ratings = pd.read_csv('https://raw.githubusercontent.com/insaid2018/Term-4/master/Data/Assignment/ratings.csv', sep='\\t', encoding='latin-1', usecols=['user_id', 'movie_id', 'rating'])\n",
        "\n",
        "\n",
        "# Reading movies file\n",
        "movies = pd.read_csv('https://raw.githubusercontent.com/insaid2018/Term-4/master/Data/Assignment/movies.csv', sep='\\t', encoding='latin-1', usecols=['movie_id', 'title', 'genres'])"
      ],
      "execution_count": 0,
      "outputs": []
    },
    {
      "cell_type": "markdown",
      "metadata": {
        "id": "JsMOziUVxDtZ",
        "colab_type": "text"
      },
      "source": [
        "<a id=section5></a>\n",
        "## 5. Implementing Singular Vector Decomposition\n",
        "\n",
        "#### Using Ratings Data"
      ]
    },
    {
      "cell_type": "code",
      "metadata": {
        "id": "ro59PfILxDta",
        "colab_type": "code",
        "outputId": "8e27fb4c-083e-4fd5-bd61-9e485c221027",
        "colab": {
          "base_uri": "https://localhost:8080/",
          "height": 34
        }
      },
      "source": [
        "n_users = ratings.user_id.unique().shape[0]\n",
        "n_movies = ratings.movie_id.unique().shape[0]\n",
        "print ('Number of users = ' + str(n_users) + ' | Number of movies = ' + str(n_movies))"
      ],
      "execution_count": 0,
      "outputs": [
        {
          "output_type": "stream",
          "text": [
            "Number of users = 6040 | Number of movies = 3706\n"
          ],
          "name": "stdout"
        }
      ]
    },
    {
      "cell_type": "markdown",
      "metadata": {
        "id": "L5vwsEonxDti",
        "colab_type": "text"
      },
      "source": [
        "- We want the format of my ratings matrix to be one row per user and one column per movie. \n",
        "- We'll pivot *ratings* to get that and call the new variable *Ratings* (with a capital *R)."
      ]
    },
    {
      "cell_type": "code",
      "metadata": {
        "id": "iAchWQ_ZxDtj",
        "colab_type": "code",
        "colab": {}
      },
      "source": [
        "Ratings = ratings.pivot(index = 'user_id', columns ='movie_id', values = 'rating').fillna(0)\n",
        "Ratings.head()"
      ],
      "execution_count": 0,
      "outputs": []
    },
    {
      "cell_type": "markdown",
      "metadata": {
        "id": "G_GcfmZ_xDtr",
        "colab_type": "text"
      },
      "source": [
        "We need to de-normalize the data (normalize by each users mean) and convert it from a dataframe to a numpy array."
      ]
    },
    {
      "cell_type": "code",
      "metadata": {
        "id": "fVYVUxT4xDts",
        "colab_type": "code",
        "colab": {}
      },
      "source": [
        "R = Ratings.values\n",
        "user_ratings_mean = np.mean(R, axis = 1)\n",
        "Ratings_demeaned = R - user_ratings_mean.reshape(-1, 1)"
      ],
      "execution_count": 0,
      "outputs": []
    },
    {
      "cell_type": "markdown",
      "metadata": {
        "id": "jQFLjoKWxDtx",
        "colab_type": "text"
      },
      "source": [
        "- With the ratings matrix properly formatted and normalized, we can do some dimensionality reduction."
      ]
    },
    {
      "cell_type": "markdown",
      "metadata": {
        "id": "DnGgMQtzxDty",
        "colab_type": "text"
      },
      "source": [
        "<a id=section6></a>\n",
        "## 6. Setting Up SVD\n",
        "\n",
        "Scipy and Numpy both have functions to do the singular value decomposition. We're going to use the Scipy function *svds* because it let's us choose how many latent factors we want to use to approximate the original ratings matrix (instead of having to truncate it after)."
      ]
    },
    {
      "cell_type": "code",
      "metadata": {
        "id": "OVZcJIrdxDt0",
        "colab_type": "code",
        "colab": {}
      },
      "source": [
        "from scipy.sparse.linalg import svds\n",
        "U, sigma, Vt = svds(Ratings_demeaned, k = 50)"
      ],
      "execution_count": 0,
      "outputs": []
    },
    {
      "cell_type": "markdown",
      "metadata": {
        "id": "U9zzsTOHxDuA",
        "colab_type": "text"
      },
      "source": [
        "As we're going to leverage matrix multiplication to get predictions, We'll convert the $\\Sigma$ (now are values) to the diagonal matrix form."
      ]
    },
    {
      "cell_type": "code",
      "metadata": {
        "id": "hl7Nk3QaxDuB",
        "colab_type": "code",
        "colab": {}
      },
      "source": [
        "sigma = np.diag(sigma)"
      ],
      "execution_count": 0,
      "outputs": []
    },
    {
      "cell_type": "markdown",
      "metadata": {
        "id": "qOGui9kPxDuE",
        "colab_type": "text"
      },
      "source": [
        "<a id=section7></a>\n",
        "## 7. Making Recommendations using SVD\n",
        "\n",
        "Now, we have everything we need to make movie ratings predictions for every user. We can do it all at once by following the math and matrix multiply $U$, $\\Sigma$, and $V^{T}$ back to get the rank $k=50$ approximation of $A$.\n",
        "\n",
        "But first, we need to add the user means back to get the actual star ratings prediction."
      ]
    },
    {
      "cell_type": "code",
      "metadata": {
        "id": "xcXxEAAQxDuE",
        "colab_type": "code",
        "colab": {}
      },
      "source": [
        "all_user_predicted_ratings = np.dot(np.dot(U, sigma), Vt) + user_ratings_mean.reshape(-1, 1)"
      ],
      "execution_count": 0,
      "outputs": []
    },
    {
      "cell_type": "markdown",
      "metadata": {
        "id": "V_XfMT3cxDuJ",
        "colab_type": "text"
      },
      "source": [
        "With the predictions matrix for every user, we can build a function to recommend movies for any user. We return the list of movies the user has already rated, for the sake of comparison."
      ]
    },
    {
      "cell_type": "code",
      "metadata": {
        "id": "aSQaWlk1xDuK",
        "colab_type": "code",
        "outputId": "a940458c-0845-48df-91e3-7cc872efc30b",
        "colab": {
          "base_uri": "https://localhost:8080/",
          "height": 244
        }
      },
      "source": [
        "preds = pd.DataFrame(all_user_predicted_ratings, columns = Ratings.columns)\n",
        "preds.head()"
      ],
      "execution_count": 0,
      "outputs": [
        {
          "output_type": "execute_result",
          "data": {
            "text/html": [
              "<div>\n",
              "<style scoped>\n",
              "    .dataframe tbody tr th:only-of-type {\n",
              "        vertical-align: middle;\n",
              "    }\n",
              "\n",
              "    .dataframe tbody tr th {\n",
              "        vertical-align: top;\n",
              "    }\n",
              "\n",
              "    .dataframe thead th {\n",
              "        text-align: right;\n",
              "    }\n",
              "</style>\n",
              "<table border=\"1\" class=\"dataframe\">\n",
              "  <thead>\n",
              "    <tr style=\"text-align: right;\">\n",
              "      <th>movie_id</th>\n",
              "      <th>1</th>\n",
              "      <th>2</th>\n",
              "      <th>3</th>\n",
              "      <th>4</th>\n",
              "      <th>5</th>\n",
              "      <th>6</th>\n",
              "      <th>7</th>\n",
              "      <th>8</th>\n",
              "      <th>9</th>\n",
              "      <th>10</th>\n",
              "      <th>11</th>\n",
              "      <th>12</th>\n",
              "      <th>13</th>\n",
              "      <th>14</th>\n",
              "      <th>15</th>\n",
              "      <th>16</th>\n",
              "      <th>17</th>\n",
              "      <th>18</th>\n",
              "      <th>19</th>\n",
              "      <th>20</th>\n",
              "      <th>21</th>\n",
              "      <th>22</th>\n",
              "      <th>23</th>\n",
              "      <th>24</th>\n",
              "      <th>25</th>\n",
              "      <th>26</th>\n",
              "      <th>27</th>\n",
              "      <th>28</th>\n",
              "      <th>29</th>\n",
              "      <th>30</th>\n",
              "      <th>31</th>\n",
              "      <th>32</th>\n",
              "      <th>33</th>\n",
              "      <th>34</th>\n",
              "      <th>35</th>\n",
              "      <th>36</th>\n",
              "      <th>37</th>\n",
              "      <th>38</th>\n",
              "      <th>39</th>\n",
              "      <th>40</th>\n",
              "      <th>...</th>\n",
              "      <th>3913</th>\n",
              "      <th>3914</th>\n",
              "      <th>3915</th>\n",
              "      <th>3916</th>\n",
              "      <th>3917</th>\n",
              "      <th>3918</th>\n",
              "      <th>3919</th>\n",
              "      <th>3920</th>\n",
              "      <th>3921</th>\n",
              "      <th>3922</th>\n",
              "      <th>3923</th>\n",
              "      <th>3924</th>\n",
              "      <th>3925</th>\n",
              "      <th>3926</th>\n",
              "      <th>3927</th>\n",
              "      <th>3928</th>\n",
              "      <th>3929</th>\n",
              "      <th>3930</th>\n",
              "      <th>3931</th>\n",
              "      <th>3932</th>\n",
              "      <th>3933</th>\n",
              "      <th>3934</th>\n",
              "      <th>3935</th>\n",
              "      <th>3936</th>\n",
              "      <th>3937</th>\n",
              "      <th>3938</th>\n",
              "      <th>3939</th>\n",
              "      <th>3940</th>\n",
              "      <th>3941</th>\n",
              "      <th>3942</th>\n",
              "      <th>3943</th>\n",
              "      <th>3944</th>\n",
              "      <th>3945</th>\n",
              "      <th>3946</th>\n",
              "      <th>3947</th>\n",
              "      <th>3948</th>\n",
              "      <th>3949</th>\n",
              "      <th>3950</th>\n",
              "      <th>3951</th>\n",
              "      <th>3952</th>\n",
              "    </tr>\n",
              "  </thead>\n",
              "  <tbody>\n",
              "    <tr>\n",
              "      <th>0</th>\n",
              "      <td>4.288861</td>\n",
              "      <td>0.143055</td>\n",
              "      <td>-0.195080</td>\n",
              "      <td>-0.018843</td>\n",
              "      <td>0.012232</td>\n",
              "      <td>-0.176604</td>\n",
              "      <td>-0.074120</td>\n",
              "      <td>0.141358</td>\n",
              "      <td>-0.059553</td>\n",
              "      <td>-0.195950</td>\n",
              "      <td>0.512867</td>\n",
              "      <td>-0.089172</td>\n",
              "      <td>0.310181</td>\n",
              "      <td>-0.002005</td>\n",
              "      <td>-0.052401</td>\n",
              "      <td>-0.189827</td>\n",
              "      <td>0.238360</td>\n",
              "      <td>0.006466</td>\n",
              "      <td>-0.099315</td>\n",
              "      <td>-0.069682</td>\n",
              "      <td>-0.321492</td>\n",
              "      <td>0.111577</td>\n",
              "      <td>0.034795</td>\n",
              "      <td>0.320576</td>\n",
              "      <td>-0.118217</td>\n",
              "      <td>-0.012647</td>\n",
              "      <td>0.065573</td>\n",
              "      <td>-0.098318</td>\n",
              "      <td>0.064081</td>\n",
              "      <td>-0.005914</td>\n",
              "      <td>0.091936</td>\n",
              "      <td>0.180563</td>\n",
              "      <td>-0.009566</td>\n",
              "      <td>2.641693</td>\n",
              "      <td>-0.012495</td>\n",
              "      <td>0.765179</td>\n",
              "      <td>0.019784</td>\n",
              "      <td>0.002917</td>\n",
              "      <td>0.053079</td>\n",
              "      <td>0.014856</td>\n",
              "      <td>...</td>\n",
              "      <td>0.018810</td>\n",
              "      <td>-0.018782</td>\n",
              "      <td>0.022249</td>\n",
              "      <td>0.227852</td>\n",
              "      <td>-0.067653</td>\n",
              "      <td>-0.046039</td>\n",
              "      <td>-0.023574</td>\n",
              "      <td>-0.019405</td>\n",
              "      <td>-0.005116</td>\n",
              "      <td>-0.032921</td>\n",
              "      <td>-0.008259</td>\n",
              "      <td>-0.019157</td>\n",
              "      <td>0.007527</td>\n",
              "      <td>-0.008687</td>\n",
              "      <td>-0.025630</td>\n",
              "      <td>-0.013563</td>\n",
              "      <td>0.015240</td>\n",
              "      <td>-0.044665</td>\n",
              "      <td>-0.009568</td>\n",
              "      <td>-0.043549</td>\n",
              "      <td>-0.003131</td>\n",
              "      <td>-0.008221</td>\n",
              "      <td>-0.005948</td>\n",
              "      <td>0.031885</td>\n",
              "      <td>-0.003424</td>\n",
              "      <td>-0.001159</td>\n",
              "      <td>-0.002124</td>\n",
              "      <td>-0.002827</td>\n",
              "      <td>0.010393</td>\n",
              "      <td>-0.001068</td>\n",
              "      <td>0.027807</td>\n",
              "      <td>0.001640</td>\n",
              "      <td>0.026395</td>\n",
              "      <td>-0.022024</td>\n",
              "      <td>-0.085415</td>\n",
              "      <td>0.403529</td>\n",
              "      <td>0.105579</td>\n",
              "      <td>0.031912</td>\n",
              "      <td>0.050450</td>\n",
              "      <td>0.088910</td>\n",
              "    </tr>\n",
              "    <tr>\n",
              "      <th>1</th>\n",
              "      <td>0.744716</td>\n",
              "      <td>0.169659</td>\n",
              "      <td>0.335418</td>\n",
              "      <td>0.000758</td>\n",
              "      <td>0.022475</td>\n",
              "      <td>1.353050</td>\n",
              "      <td>0.051426</td>\n",
              "      <td>0.071258</td>\n",
              "      <td>0.161601</td>\n",
              "      <td>1.567246</td>\n",
              "      <td>0.772656</td>\n",
              "      <td>0.046179</td>\n",
              "      <td>-0.054562</td>\n",
              "      <td>0.042344</td>\n",
              "      <td>0.048390</td>\n",
              "      <td>0.347313</td>\n",
              "      <td>1.074905</td>\n",
              "      <td>-0.099782</td>\n",
              "      <td>0.008163</td>\n",
              "      <td>0.250869</td>\n",
              "      <td>2.186638</td>\n",
              "      <td>0.018789</td>\n",
              "      <td>-0.002199</td>\n",
              "      <td>0.218934</td>\n",
              "      <td>0.824475</td>\n",
              "      <td>0.139274</td>\n",
              "      <td>-0.007135</td>\n",
              "      <td>0.053071</td>\n",
              "      <td>-0.156952</td>\n",
              "      <td>0.044739</td>\n",
              "      <td>-0.002960</td>\n",
              "      <td>0.453298</td>\n",
              "      <td>-0.007484</td>\n",
              "      <td>0.920325</td>\n",
              "      <td>0.016566</td>\n",
              "      <td>1.335129</td>\n",
              "      <td>-0.015066</td>\n",
              "      <td>-0.045602</td>\n",
              "      <td>0.034649</td>\n",
              "      <td>0.122010</td>\n",
              "      <td>...</td>\n",
              "      <td>-0.042363</td>\n",
              "      <td>-0.137822</td>\n",
              "      <td>-0.112071</td>\n",
              "      <td>0.380783</td>\n",
              "      <td>-0.036273</td>\n",
              "      <td>-0.016174</td>\n",
              "      <td>0.002920</td>\n",
              "      <td>-0.148021</td>\n",
              "      <td>-0.017614</td>\n",
              "      <td>-0.033474</td>\n",
              "      <td>0.086133</td>\n",
              "      <td>0.008153</td>\n",
              "      <td>-0.126819</td>\n",
              "      <td>0.109208</td>\n",
              "      <td>0.001798</td>\n",
              "      <td>0.151866</td>\n",
              "      <td>0.014118</td>\n",
              "      <td>0.032897</td>\n",
              "      <td>0.005764</td>\n",
              "      <td>0.042259</td>\n",
              "      <td>0.022404</td>\n",
              "      <td>0.003260</td>\n",
              "      <td>0.010556</td>\n",
              "      <td>0.137181</td>\n",
              "      <td>-0.042184</td>\n",
              "      <td>0.006759</td>\n",
              "      <td>-0.005789</td>\n",
              "      <td>0.000340</td>\n",
              "      <td>0.002024</td>\n",
              "      <td>0.016013</td>\n",
              "      <td>-0.056502</td>\n",
              "      <td>-0.013733</td>\n",
              "      <td>-0.010580</td>\n",
              "      <td>0.062576</td>\n",
              "      <td>-0.016248</td>\n",
              "      <td>0.155790</td>\n",
              "      <td>-0.418737</td>\n",
              "      <td>-0.101102</td>\n",
              "      <td>-0.054098</td>\n",
              "      <td>-0.140188</td>\n",
              "    </tr>\n",
              "    <tr>\n",
              "      <th>2</th>\n",
              "      <td>1.818824</td>\n",
              "      <td>0.456136</td>\n",
              "      <td>0.090978</td>\n",
              "      <td>-0.043037</td>\n",
              "      <td>-0.025694</td>\n",
              "      <td>-0.158617</td>\n",
              "      <td>-0.131778</td>\n",
              "      <td>0.098977</td>\n",
              "      <td>0.030551</td>\n",
              "      <td>0.735470</td>\n",
              "      <td>-0.023476</td>\n",
              "      <td>0.034796</td>\n",
              "      <td>0.065942</td>\n",
              "      <td>0.008661</td>\n",
              "      <td>0.110348</td>\n",
              "      <td>-0.002952</td>\n",
              "      <td>-0.122061</td>\n",
              "      <td>0.063974</td>\n",
              "      <td>0.061033</td>\n",
              "      <td>0.081799</td>\n",
              "      <td>0.329471</td>\n",
              "      <td>0.149579</td>\n",
              "      <td>0.095352</td>\n",
              "      <td>-0.161493</td>\n",
              "      <td>0.022545</td>\n",
              "      <td>-0.009284</td>\n",
              "      <td>-0.002677</td>\n",
              "      <td>-0.142710</td>\n",
              "      <td>0.012345</td>\n",
              "      <td>-0.085331</td>\n",
              "      <td>0.076139</td>\n",
              "      <td>-0.355795</td>\n",
              "      <td>-0.008579</td>\n",
              "      <td>1.046871</td>\n",
              "      <td>-0.088946</td>\n",
              "      <td>0.383583</td>\n",
              "      <td>-0.018144</td>\n",
              "      <td>-0.038618</td>\n",
              "      <td>0.113984</td>\n",
              "      <td>0.006942</td>\n",
              "      <td>...</td>\n",
              "      <td>0.007233</td>\n",
              "      <td>-0.047221</td>\n",
              "      <td>0.066474</td>\n",
              "      <td>-0.179455</td>\n",
              "      <td>0.097428</td>\n",
              "      <td>0.034113</td>\n",
              "      <td>0.008098</td>\n",
              "      <td>-0.024784</td>\n",
              "      <td>-0.012749</td>\n",
              "      <td>-0.007394</td>\n",
              "      <td>-0.017220</td>\n",
              "      <td>0.004719</td>\n",
              "      <td>0.113348</td>\n",
              "      <td>-0.074943</td>\n",
              "      <td>-0.145795</td>\n",
              "      <td>0.128619</td>\n",
              "      <td>0.112567</td>\n",
              "      <td>0.045500</td>\n",
              "      <td>-0.018027</td>\n",
              "      <td>-0.058946</td>\n",
              "      <td>-0.002770</td>\n",
              "      <td>-0.035276</td>\n",
              "      <td>-0.008085</td>\n",
              "      <td>0.132182</td>\n",
              "      <td>-0.017005</td>\n",
              "      <td>0.014383</td>\n",
              "      <td>0.006598</td>\n",
              "      <td>-0.006217</td>\n",
              "      <td>-0.000342</td>\n",
              "      <td>0.000518</td>\n",
              "      <td>0.040481</td>\n",
              "      <td>-0.005301</td>\n",
              "      <td>0.012832</td>\n",
              "      <td>0.029349</td>\n",
              "      <td>0.020866</td>\n",
              "      <td>0.121532</td>\n",
              "      <td>0.076205</td>\n",
              "      <td>0.012345</td>\n",
              "      <td>0.015148</td>\n",
              "      <td>-0.109956</td>\n",
              "    </tr>\n",
              "    <tr>\n",
              "      <th>3</th>\n",
              "      <td>0.408057</td>\n",
              "      <td>-0.072960</td>\n",
              "      <td>0.039642</td>\n",
              "      <td>0.089363</td>\n",
              "      <td>0.041950</td>\n",
              "      <td>0.237753</td>\n",
              "      <td>-0.049426</td>\n",
              "      <td>0.009467</td>\n",
              "      <td>0.045469</td>\n",
              "      <td>-0.111370</td>\n",
              "      <td>-0.375831</td>\n",
              "      <td>0.068658</td>\n",
              "      <td>0.011199</td>\n",
              "      <td>0.069699</td>\n",
              "      <td>-0.037529</td>\n",
              "      <td>-0.238788</td>\n",
              "      <td>0.060607</td>\n",
              "      <td>-0.043418</td>\n",
              "      <td>0.053152</td>\n",
              "      <td>0.078237</td>\n",
              "      <td>0.357185</td>\n",
              "      <td>-0.096005</td>\n",
              "      <td>-0.028243</td>\n",
              "      <td>-0.067169</td>\n",
              "      <td>0.246164</td>\n",
              "      <td>-0.020379</td>\n",
              "      <td>0.034461</td>\n",
              "      <td>-0.022225</td>\n",
              "      <td>-0.012327</td>\n",
              "      <td>0.009182</td>\n",
              "      <td>0.014730</td>\n",
              "      <td>0.215893</td>\n",
              "      <td>-0.019687</td>\n",
              "      <td>-0.293933</td>\n",
              "      <td>-0.011511</td>\n",
              "      <td>0.145326</td>\n",
              "      <td>-0.029213</td>\n",
              "      <td>0.030029</td>\n",
              "      <td>-0.045409</td>\n",
              "      <td>-0.030684</td>\n",
              "      <td>...</td>\n",
              "      <td>-0.015077</td>\n",
              "      <td>-0.030208</td>\n",
              "      <td>0.028357</td>\n",
              "      <td>-0.072643</td>\n",
              "      <td>-0.135727</td>\n",
              "      <td>-0.053318</td>\n",
              "      <td>-0.012962</td>\n",
              "      <td>-0.054465</td>\n",
              "      <td>0.005870</td>\n",
              "      <td>-0.018048</td>\n",
              "      <td>-0.006836</td>\n",
              "      <td>-0.008222</td>\n",
              "      <td>-0.027214</td>\n",
              "      <td>-0.071677</td>\n",
              "      <td>-0.094072</td>\n",
              "      <td>-0.010745</td>\n",
              "      <td>-0.103191</td>\n",
              "      <td>-0.031297</td>\n",
              "      <td>-0.023920</td>\n",
              "      <td>-0.015053</td>\n",
              "      <td>-0.017914</td>\n",
              "      <td>-0.029561</td>\n",
              "      <td>-0.024299</td>\n",
              "      <td>-0.057678</td>\n",
              "      <td>-0.111450</td>\n",
              "      <td>-0.015473</td>\n",
              "      <td>-0.007123</td>\n",
              "      <td>-0.007416</td>\n",
              "      <td>-0.011508</td>\n",
              "      <td>-0.010038</td>\n",
              "      <td>0.008571</td>\n",
              "      <td>-0.005425</td>\n",
              "      <td>-0.008500</td>\n",
              "      <td>-0.003417</td>\n",
              "      <td>-0.083982</td>\n",
              "      <td>0.094512</td>\n",
              "      <td>0.057557</td>\n",
              "      <td>-0.026050</td>\n",
              "      <td>0.014841</td>\n",
              "      <td>-0.034224</td>\n",
              "    </tr>\n",
              "    <tr>\n",
              "      <th>4</th>\n",
              "      <td>1.574272</td>\n",
              "      <td>0.021239</td>\n",
              "      <td>-0.051300</td>\n",
              "      <td>0.246884</td>\n",
              "      <td>-0.032406</td>\n",
              "      <td>1.552281</td>\n",
              "      <td>-0.199630</td>\n",
              "      <td>-0.014920</td>\n",
              "      <td>-0.060498</td>\n",
              "      <td>0.450512</td>\n",
              "      <td>-0.251178</td>\n",
              "      <td>0.012337</td>\n",
              "      <td>-0.084051</td>\n",
              "      <td>0.258937</td>\n",
              "      <td>0.016570</td>\n",
              "      <td>0.980536</td>\n",
              "      <td>1.267869</td>\n",
              "      <td>0.275619</td>\n",
              "      <td>-0.008139</td>\n",
              "      <td>-0.038832</td>\n",
              "      <td>1.849627</td>\n",
              "      <td>0.107649</td>\n",
              "      <td>-0.168424</td>\n",
              "      <td>0.386541</td>\n",
              "      <td>1.790343</td>\n",
              "      <td>0.192379</td>\n",
              "      <td>-0.054356</td>\n",
              "      <td>0.267566</td>\n",
              "      <td>1.027817</td>\n",
              "      <td>0.374665</td>\n",
              "      <td>-0.010445</td>\n",
              "      <td>1.947980</td>\n",
              "      <td>0.017468</td>\n",
              "      <td>2.784035</td>\n",
              "      <td>0.274397</td>\n",
              "      <td>1.422393</td>\n",
              "      <td>0.040553</td>\n",
              "      <td>0.022926</td>\n",
              "      <td>1.345800</td>\n",
              "      <td>0.104507</td>\n",
              "      <td>...</td>\n",
              "      <td>0.075475</td>\n",
              "      <td>0.330767</td>\n",
              "      <td>0.150470</td>\n",
              "      <td>-0.261636</td>\n",
              "      <td>0.085163</td>\n",
              "      <td>-0.014229</td>\n",
              "      <td>-0.029247</td>\n",
              "      <td>0.124172</td>\n",
              "      <td>0.092875</td>\n",
              "      <td>0.061895</td>\n",
              "      <td>0.034757</td>\n",
              "      <td>0.054386</td>\n",
              "      <td>0.047055</td>\n",
              "      <td>0.048403</td>\n",
              "      <td>0.082926</td>\n",
              "      <td>0.129035</td>\n",
              "      <td>-0.174646</td>\n",
              "      <td>0.102727</td>\n",
              "      <td>0.024732</td>\n",
              "      <td>0.047280</td>\n",
              "      <td>0.017818</td>\n",
              "      <td>0.041451</td>\n",
              "      <td>0.041595</td>\n",
              "      <td>-0.007138</td>\n",
              "      <td>-0.080448</td>\n",
              "      <td>0.018639</td>\n",
              "      <td>0.034068</td>\n",
              "      <td>0.026941</td>\n",
              "      <td>0.035905</td>\n",
              "      <td>0.024459</td>\n",
              "      <td>0.110151</td>\n",
              "      <td>0.046010</td>\n",
              "      <td>0.006934</td>\n",
              "      <td>-0.015940</td>\n",
              "      <td>-0.050080</td>\n",
              "      <td>-0.052539</td>\n",
              "      <td>0.507189</td>\n",
              "      <td>0.033830</td>\n",
              "      <td>0.125706</td>\n",
              "      <td>0.199244</td>\n",
              "    </tr>\n",
              "  </tbody>\n",
              "</table>\n",
              "<p>5 rows × 3706 columns</p>\n",
              "</div>"
            ],
            "text/plain": [
              "movie_id      1         2         3     ...      3950      3951      3952\n",
              "0         4.288861  0.143055 -0.195080  ...  0.031912  0.050450  0.088910\n",
              "1         0.744716  0.169659  0.335418  ... -0.101102 -0.054098 -0.140188\n",
              "2         1.818824  0.456136  0.090978  ...  0.012345  0.015148 -0.109956\n",
              "3         0.408057 -0.072960  0.039642  ... -0.026050  0.014841 -0.034224\n",
              "4         1.574272  0.021239 -0.051300  ...  0.033830  0.125706  0.199244\n",
              "\n",
              "[5 rows x 3706 columns]"
            ]
          },
          "metadata": {
            "tags": []
          },
          "execution_count": 85
        }
      ]
    },
    {
      "cell_type": "markdown",
      "metadata": {
        "id": "iTcxX-ZVxDuN",
        "colab_type": "text"
      },
      "source": [
        " Just to recall, below are the samples of movies and ratings dataset"
      ]
    },
    {
      "cell_type": "code",
      "metadata": {
        "id": "mL1__q7LxDuP",
        "colab_type": "code",
        "outputId": "2f8346b5-980e-4f13-8951-4b30123d86a3",
        "colab": {
          "base_uri": "https://localhost:8080/",
          "height": 106
        }
      },
      "source": [
        "movies.head(2)"
      ],
      "execution_count": 0,
      "outputs": [
        {
          "output_type": "execute_result",
          "data": {
            "text/html": [
              "<div>\n",
              "<style scoped>\n",
              "    .dataframe tbody tr th:only-of-type {\n",
              "        vertical-align: middle;\n",
              "    }\n",
              "\n",
              "    .dataframe tbody tr th {\n",
              "        vertical-align: top;\n",
              "    }\n",
              "\n",
              "    .dataframe thead th {\n",
              "        text-align: right;\n",
              "    }\n",
              "</style>\n",
              "<table border=\"1\" class=\"dataframe\">\n",
              "  <thead>\n",
              "    <tr style=\"text-align: right;\">\n",
              "      <th></th>\n",
              "      <th>movie_id</th>\n",
              "      <th>title</th>\n",
              "      <th>genres</th>\n",
              "    </tr>\n",
              "  </thead>\n",
              "  <tbody>\n",
              "    <tr>\n",
              "      <th>0</th>\n",
              "      <td>1</td>\n",
              "      <td>Toy Story (1995)</td>\n",
              "      <td>Animation|Children's|Comedy</td>\n",
              "    </tr>\n",
              "    <tr>\n",
              "      <th>1</th>\n",
              "      <td>2</td>\n",
              "      <td>Jumanji (1995)</td>\n",
              "      <td>Adventure|Children's|Fantasy</td>\n",
              "    </tr>\n",
              "  </tbody>\n",
              "</table>\n",
              "</div>"
            ],
            "text/plain": [
              "   movie_id             title                        genres\n",
              "0         1  Toy Story (1995)   Animation|Children's|Comedy\n",
              "1         2    Jumanji (1995)  Adventure|Children's|Fantasy"
            ]
          },
          "metadata": {
            "tags": []
          },
          "execution_count": 86
        }
      ]
    },
    {
      "cell_type": "code",
      "metadata": {
        "id": "s30_MYPSxDuT",
        "colab_type": "code",
        "outputId": "e6b39dbf-832b-4e84-922c-da4cccfdcc11",
        "colab": {
          "base_uri": "https://localhost:8080/",
          "height": 106
        }
      },
      "source": [
        "ratings.head(2)"
      ],
      "execution_count": 0,
      "outputs": [
        {
          "output_type": "execute_result",
          "data": {
            "text/html": [
              "<div>\n",
              "<style scoped>\n",
              "    .dataframe tbody tr th:only-of-type {\n",
              "        vertical-align: middle;\n",
              "    }\n",
              "\n",
              "    .dataframe tbody tr th {\n",
              "        vertical-align: top;\n",
              "    }\n",
              "\n",
              "    .dataframe thead th {\n",
              "        text-align: right;\n",
              "    }\n",
              "</style>\n",
              "<table border=\"1\" class=\"dataframe\">\n",
              "  <thead>\n",
              "    <tr style=\"text-align: right;\">\n",
              "      <th></th>\n",
              "      <th>user_id</th>\n",
              "      <th>movie_id</th>\n",
              "      <th>rating</th>\n",
              "    </tr>\n",
              "  </thead>\n",
              "  <tbody>\n",
              "    <tr>\n",
              "      <th>0</th>\n",
              "      <td>1</td>\n",
              "      <td>1193</td>\n",
              "      <td>5</td>\n",
              "    </tr>\n",
              "    <tr>\n",
              "      <th>1</th>\n",
              "      <td>1</td>\n",
              "      <td>661</td>\n",
              "      <td>3</td>\n",
              "    </tr>\n",
              "  </tbody>\n",
              "</table>\n",
              "</div>"
            ],
            "text/plain": [
              "   user_id  movie_id  rating\n",
              "0        1      1193       5\n",
              "1        1       661       3"
            ]
          },
          "metadata": {
            "tags": []
          },
          "execution_count": 87
        }
      ]
    },
    {
      "cell_type": "markdown",
      "metadata": {
        "id": "fGXmT8knxDuW",
        "colab_type": "text"
      },
      "source": [
        "Now, we write a function to return the movies with the highest predicted rating that the specified user hasn't already rated. Though we didn't use any explicit movie content features (such as genre or title), we'll merge in that information to get a more complete picture of the recommendations."
      ]
    },
    {
      "cell_type": "code",
      "metadata": {
        "id": "VESFKZHVxDuX",
        "colab_type": "code",
        "colab": {}
      },
      "source": [
        "def recommend_movies(predictions, userID, movies, original_ratings, num_recommendations):\n",
        "    \n",
        "    # Get and sort the user's predictions\n",
        "    user_row_number = userID - 1 # User ID starts at 1, not 0\n",
        "    sorted_user_predictions = preds.iloc[user_row_number].sort_values(ascending=False) # User ID starts at 1\n",
        "    \n",
        "    # Get the user's data and merge in the movie information.\n",
        "    user_data = original_ratings[original_ratings.user_id == (userID)]\n",
        "    user_full = (user_data.merge(movies, how = 'left', left_on = 'movie_id', right_on = 'movie_id').\n",
        "                     sort_values(['rating'], ascending=False)\n",
        "                 )\n",
        "\n",
        "    print('User {0} has already rated {1} movies.'.format(userID, user_full.shape[0]))\n",
        "    print('Recommending highest {0} predicted ratings movies not already rated.'.format(num_recommendations))\n",
        "    \n",
        "    # Recommend the highest predicted rating movies that the user hasn't seen yet.\n",
        "    recommendations = (movies[~movies['movie_id'].isin(user_full['movie_id'])].\n",
        "         merge(pd.DataFrame(sorted_user_predictions).reset_index(), how = 'left',\n",
        "               left_on = 'movie_id',\n",
        "               right_on = 'movie_id').\n",
        "         rename(columns = {user_row_number: 'Predictions'}).\n",
        "         sort_values('Predictions', ascending = False).\n",
        "                       iloc[:num_recommendations, :-1]\n",
        "                      )\n",
        "\n",
        "    return user_full, recommendations"
      ],
      "execution_count": 0,
      "outputs": []
    },
    {
      "cell_type": "markdown",
      "metadata": {
        "id": "nlKpwif2xDua",
        "colab_type": "text"
      },
      "source": [
        "Let's try to recommend 20 movies for user with ID 1310."
      ]
    },
    {
      "cell_type": "code",
      "metadata": {
        "id": "CYe_OeIbxDua",
        "colab_type": "code",
        "outputId": "75d9f9e5-e894-4d56-e244-86a392cfdd4f",
        "colab": {
          "base_uri": "https://localhost:8080/",
          "height": 50
        }
      },
      "source": [
        "already_rated, predictions = recommend_movies(preds, 1310, movies, ratings, 20)"
      ],
      "execution_count": 0,
      "outputs": [
        {
          "output_type": "stream",
          "text": [
            "User 1310 has already rated 24 movies.\n",
            "Recommending highest 20 predicted ratings movies not already rated.\n"
          ],
          "name": "stdout"
        }
      ]
    },
    {
      "cell_type": "code",
      "metadata": {
        "id": "OEEoDxp3xDud",
        "colab_type": "code",
        "outputId": "4c86efd2-1106-42b4-fb65-f03a8b60f0f5",
        "colab": {
          "base_uri": "https://localhost:8080/",
          "height": 343
        }
      },
      "source": [
        "# Top 10 movies that User 1310 has rated \n",
        "already_rated.head(10)"
      ],
      "execution_count": 0,
      "outputs": [
        {
          "output_type": "execute_result",
          "data": {
            "text/html": [
              "<div>\n",
              "<style scoped>\n",
              "    .dataframe tbody tr th:only-of-type {\n",
              "        vertical-align: middle;\n",
              "    }\n",
              "\n",
              "    .dataframe tbody tr th {\n",
              "        vertical-align: top;\n",
              "    }\n",
              "\n",
              "    .dataframe thead th {\n",
              "        text-align: right;\n",
              "    }\n",
              "</style>\n",
              "<table border=\"1\" class=\"dataframe\">\n",
              "  <thead>\n",
              "    <tr style=\"text-align: right;\">\n",
              "      <th></th>\n",
              "      <th>user_id</th>\n",
              "      <th>movie_id</th>\n",
              "      <th>rating</th>\n",
              "      <th>title</th>\n",
              "      <th>genres</th>\n",
              "    </tr>\n",
              "  </thead>\n",
              "  <tbody>\n",
              "    <tr>\n",
              "      <th>5</th>\n",
              "      <td>1310</td>\n",
              "      <td>2248</td>\n",
              "      <td>5</td>\n",
              "      <td>Say Anything... (1989)</td>\n",
              "      <td>Comedy|Drama|Romance</td>\n",
              "    </tr>\n",
              "    <tr>\n",
              "      <th>6</th>\n",
              "      <td>1310</td>\n",
              "      <td>2620</td>\n",
              "      <td>5</td>\n",
              "      <td>This Is My Father (1998)</td>\n",
              "      <td>Drama|Romance</td>\n",
              "    </tr>\n",
              "    <tr>\n",
              "      <th>7</th>\n",
              "      <td>1310</td>\n",
              "      <td>3683</td>\n",
              "      <td>5</td>\n",
              "      <td>Blood Simple (1984)</td>\n",
              "      <td>Drama|Film-Noir</td>\n",
              "    </tr>\n",
              "    <tr>\n",
              "      <th>15</th>\n",
              "      <td>1310</td>\n",
              "      <td>1704</td>\n",
              "      <td>5</td>\n",
              "      <td>Good Will Hunting (1997)</td>\n",
              "      <td>Drama</td>\n",
              "    </tr>\n",
              "    <tr>\n",
              "      <th>1</th>\n",
              "      <td>1310</td>\n",
              "      <td>1293</td>\n",
              "      <td>5</td>\n",
              "      <td>Gandhi (1982)</td>\n",
              "      <td>Drama</td>\n",
              "    </tr>\n",
              "    <tr>\n",
              "      <th>12</th>\n",
              "      <td>1310</td>\n",
              "      <td>3101</td>\n",
              "      <td>4</td>\n",
              "      <td>Fatal Attraction (1987)</td>\n",
              "      <td>Thriller</td>\n",
              "    </tr>\n",
              "    <tr>\n",
              "      <th>11</th>\n",
              "      <td>1310</td>\n",
              "      <td>1343</td>\n",
              "      <td>4</td>\n",
              "      <td>Cape Fear (1991)</td>\n",
              "      <td>Thriller</td>\n",
              "    </tr>\n",
              "    <tr>\n",
              "      <th>20</th>\n",
              "      <td>1310</td>\n",
              "      <td>2000</td>\n",
              "      <td>4</td>\n",
              "      <td>Lethal Weapon (1987)</td>\n",
              "      <td>Action|Comedy|Crime|Drama</td>\n",
              "    </tr>\n",
              "    <tr>\n",
              "      <th>18</th>\n",
              "      <td>1310</td>\n",
              "      <td>3526</td>\n",
              "      <td>4</td>\n",
              "      <td>Parenthood (1989)</td>\n",
              "      <td>Comedy|Drama</td>\n",
              "    </tr>\n",
              "    <tr>\n",
              "      <th>17</th>\n",
              "      <td>1310</td>\n",
              "      <td>3360</td>\n",
              "      <td>4</td>\n",
              "      <td>Hoosiers (1986)</td>\n",
              "      <td>Drama</td>\n",
              "    </tr>\n",
              "  </tbody>\n",
              "</table>\n",
              "</div>"
            ],
            "text/plain": [
              "    user_id  movie_id  ...                     title                     genres\n",
              "5      1310      2248  ...    Say Anything... (1989)       Comedy|Drama|Romance\n",
              "6      1310      2620  ...  This Is My Father (1998)              Drama|Romance\n",
              "7      1310      3683  ...       Blood Simple (1984)            Drama|Film-Noir\n",
              "15     1310      1704  ...  Good Will Hunting (1997)                      Drama\n",
              "1      1310      1293  ...             Gandhi (1982)                      Drama\n",
              "12     1310      3101  ...   Fatal Attraction (1987)                   Thriller\n",
              "11     1310      1343  ...          Cape Fear (1991)                   Thriller\n",
              "20     1310      2000  ...      Lethal Weapon (1987)  Action|Comedy|Crime|Drama\n",
              "18     1310      3526  ...         Parenthood (1989)               Comedy|Drama\n",
              "17     1310      3360  ...           Hoosiers (1986)                      Drama\n",
              "\n",
              "[10 rows x 5 columns]"
            ]
          },
          "metadata": {
            "tags": []
          },
          "execution_count": 90
        }
      ]
    },
    {
      "cell_type": "code",
      "metadata": {
        "id": "60wXUM59xDuf",
        "colab_type": "code",
        "outputId": "31587c83-dbba-43bb-e69b-b4b90df128ae",
        "colab": {
          "base_uri": "https://localhost:8080/",
          "height": 639
        }
      },
      "source": [
        "# Top 20 movies that User 1310 hopefully will enjoy\n",
        "predictions"
      ],
      "execution_count": 0,
      "outputs": [
        {
          "output_type": "execute_result",
          "data": {
            "text/html": [
              "<div>\n",
              "<style scoped>\n",
              "    .dataframe tbody tr th:only-of-type {\n",
              "        vertical-align: middle;\n",
              "    }\n",
              "\n",
              "    .dataframe tbody tr th {\n",
              "        vertical-align: top;\n",
              "    }\n",
              "\n",
              "    .dataframe thead th {\n",
              "        text-align: right;\n",
              "    }\n",
              "</style>\n",
              "<table border=\"1\" class=\"dataframe\">\n",
              "  <thead>\n",
              "    <tr style=\"text-align: right;\">\n",
              "      <th></th>\n",
              "      <th>movie_id</th>\n",
              "      <th>title</th>\n",
              "      <th>genres</th>\n",
              "    </tr>\n",
              "  </thead>\n",
              "  <tbody>\n",
              "    <tr>\n",
              "      <th>1618</th>\n",
              "      <td>1674</td>\n",
              "      <td>Witness (1985)</td>\n",
              "      <td>Drama|Romance|Thriller</td>\n",
              "    </tr>\n",
              "    <tr>\n",
              "      <th>1880</th>\n",
              "      <td>1961</td>\n",
              "      <td>Rain Man (1988)</td>\n",
              "      <td>Drama</td>\n",
              "    </tr>\n",
              "    <tr>\n",
              "      <th>1187</th>\n",
              "      <td>1210</td>\n",
              "      <td>Star Wars: Episode VI - Return of the Jedi (1983)</td>\n",
              "      <td>Action|Adventure|Romance|Sci-Fi|War</td>\n",
              "    </tr>\n",
              "    <tr>\n",
              "      <th>1216</th>\n",
              "      <td>1242</td>\n",
              "      <td>Glory (1989)</td>\n",
              "      <td>Action|Drama|War</td>\n",
              "    </tr>\n",
              "    <tr>\n",
              "      <th>1202</th>\n",
              "      <td>1225</td>\n",
              "      <td>Amadeus (1984)</td>\n",
              "      <td>Drama</td>\n",
              "    </tr>\n",
              "    <tr>\n",
              "      <th>1273</th>\n",
              "      <td>1302</td>\n",
              "      <td>Field of Dreams (1989)</td>\n",
              "      <td>Drama</td>\n",
              "    </tr>\n",
              "    <tr>\n",
              "      <th>1220</th>\n",
              "      <td>1246</td>\n",
              "      <td>Dead Poets Society (1989)</td>\n",
              "      <td>Drama</td>\n",
              "    </tr>\n",
              "    <tr>\n",
              "      <th>1881</th>\n",
              "      <td>1962</td>\n",
              "      <td>Driving Miss Daisy (1989)</td>\n",
              "      <td>Drama</td>\n",
              "    </tr>\n",
              "    <tr>\n",
              "      <th>1877</th>\n",
              "      <td>1957</td>\n",
              "      <td>Chariots of Fire (1981)</td>\n",
              "      <td>Drama</td>\n",
              "    </tr>\n",
              "    <tr>\n",
              "      <th>1938</th>\n",
              "      <td>2020</td>\n",
              "      <td>Dangerous Liaisons (1988)</td>\n",
              "      <td>Drama|Romance</td>\n",
              "    </tr>\n",
              "    <tr>\n",
              "      <th>1233</th>\n",
              "      <td>1259</td>\n",
              "      <td>Stand by Me (1986)</td>\n",
              "      <td>Adventure|Comedy|Drama</td>\n",
              "    </tr>\n",
              "    <tr>\n",
              "      <th>3011</th>\n",
              "      <td>3098</td>\n",
              "      <td>Natural, The (1984)</td>\n",
              "      <td>Drama</td>\n",
              "    </tr>\n",
              "    <tr>\n",
              "      <th>2112</th>\n",
              "      <td>2194</td>\n",
              "      <td>Untouchables, The (1987)</td>\n",
              "      <td>Action|Crime|Drama</td>\n",
              "    </tr>\n",
              "    <tr>\n",
              "      <th>1876</th>\n",
              "      <td>1956</td>\n",
              "      <td>Ordinary People (1980)</td>\n",
              "      <td>Drama</td>\n",
              "    </tr>\n",
              "    <tr>\n",
              "      <th>1268</th>\n",
              "      <td>1296</td>\n",
              "      <td>Room with a View, A (1986)</td>\n",
              "      <td>Drama|Romance</td>\n",
              "    </tr>\n",
              "    <tr>\n",
              "      <th>2267</th>\n",
              "      <td>2352</td>\n",
              "      <td>Big Chill, The (1983)</td>\n",
              "      <td>Comedy|Drama</td>\n",
              "    </tr>\n",
              "    <tr>\n",
              "      <th>1278</th>\n",
              "      <td>1307</td>\n",
              "      <td>When Harry Met Sally... (1989)</td>\n",
              "      <td>Comedy|Romance</td>\n",
              "    </tr>\n",
              "    <tr>\n",
              "      <th>1165</th>\n",
              "      <td>1186</td>\n",
              "      <td>Sex, Lies, and Videotape (1989)</td>\n",
              "      <td>Drama</td>\n",
              "    </tr>\n",
              "    <tr>\n",
              "      <th>1199</th>\n",
              "      <td>1222</td>\n",
              "      <td>Full Metal Jacket (1987)</td>\n",
              "      <td>Action|Drama|War</td>\n",
              "    </tr>\n",
              "    <tr>\n",
              "      <th>2833</th>\n",
              "      <td>2919</td>\n",
              "      <td>Year of Living Dangerously (1982)</td>\n",
              "      <td>Drama|Romance</td>\n",
              "    </tr>\n",
              "  </tbody>\n",
              "</table>\n",
              "</div>"
            ],
            "text/plain": [
              "      movie_id  ...                               genres\n",
              "1618      1674  ...               Drama|Romance|Thriller\n",
              "1880      1961  ...                                Drama\n",
              "1187      1210  ...  Action|Adventure|Romance|Sci-Fi|War\n",
              "1216      1242  ...                     Action|Drama|War\n",
              "1202      1225  ...                                Drama\n",
              "1273      1302  ...                                Drama\n",
              "1220      1246  ...                                Drama\n",
              "1881      1962  ...                                Drama\n",
              "1877      1957  ...                                Drama\n",
              "1938      2020  ...                        Drama|Romance\n",
              "1233      1259  ...               Adventure|Comedy|Drama\n",
              "3011      3098  ...                                Drama\n",
              "2112      2194  ...                   Action|Crime|Drama\n",
              "1876      1956  ...                                Drama\n",
              "1268      1296  ...                        Drama|Romance\n",
              "2267      2352  ...                         Comedy|Drama\n",
              "1278      1307  ...                       Comedy|Romance\n",
              "1165      1186  ...                                Drama\n",
              "1199      1222  ...                     Action|Drama|War\n",
              "2833      2919  ...                        Drama|Romance\n",
              "\n",
              "[20 rows x 3 columns]"
            ]
          },
          "metadata": {
            "tags": []
          },
          "execution_count": 91
        }
      ]
    },
    {
      "cell_type": "markdown",
      "metadata": {
        "id": "eQrRaWQzxDui",
        "colab_type": "text"
      },
      "source": [
        "- It's good to see that, although we didn't actually use the genre of the movie as a feature, the truncated matrix factorization features \"picked up\" on the underlying tastes and preferences of the user. \n",
        "\n",
        "\n",
        "- We've recommended some comedy, drama, and romance movies - all of which were genres of some of this user's top rated movies."
      ]
    },
    {
      "cell_type": "markdown",
      "metadata": {
        "id": "9yKROtcmxDui",
        "colab_type": "text"
      },
      "source": [
        "<a id=section8></a>\n",
        "## 8. Model Evaluation\n",
        "\n",
        "We will use the [Surprise](https://pypi.python.org/pypi/scikit-surprise) library that provided various ready-to-use powerful prediction algorithms including (SVD) to evaluate its **RMSE (Root Mean Squared Error)** on the MovieLens dataset. It is a Python scikit building and analyzing recommender systems."
      ]
    },
    {
      "cell_type": "code",
      "metadata": {
        "id": "DphPfcsDxDuj",
        "colab_type": "code",
        "colab": {}
      },
      "source": [
        "# Import libraries from Surprise package\n",
        "from surprise import Reader, Dataset, SVD#, evaluate\n",
        "\n",
        "# Load Reader library\n",
        "reader = Reader()\n",
        "\n",
        "# Load ratings dataset with Dataset library\n",
        "data = Dataset.load_from_df(ratings[['user_id', 'movie_id', 'rating']], reader)\n",
        "\n",
        "# Split the dataset for 5-fold evaluation\n",
        "# data.split(n_folds=5)"
      ],
      "execution_count": 0,
      "outputs": []
    },
    {
      "cell_type": "code",
      "metadata": {
        "id": "BbG5ld8BxDun",
        "colab_type": "code",
        "colab": {}
      },
      "source": [
        "# from sklearn import model_selection\n",
        "from surprise.model_selection import cross_validate"
      ],
      "execution_count": 0,
      "outputs": []
    },
    {
      "cell_type": "code",
      "metadata": {
        "id": "w0ap6hHHxDus",
        "colab_type": "code",
        "outputId": "77fa9d3f-97a4-40d1-e5eb-5e75162553e6",
        "colab": {
          "base_uri": "https://localhost:8080/",
          "height": 302
        }
      },
      "source": [
        "# Use the SVD algorithm.\n",
        "svd = SVD()\n",
        "\n",
        "# Compute the RMSE of the SVD algorithm.\n",
        "cross_validate(svd, data, measures=['RMSE'], cv=5, verbose=True)"
      ],
      "execution_count": 0,
      "outputs": [
        {
          "output_type": "stream",
          "text": [
            "Evaluating RMSE of algorithm SVD on 5 split(s).\n",
            "\n",
            "                  Fold 1  Fold 2  Fold 3  Fold 4  Fold 5  Mean    Std     \n",
            "RMSE (testset)    0.8728  0.8754  0.8745  0.8742  0.8731  0.8740  0.0009  \n",
            "Fit time          50.25   51.19   51.15   55.17   51.12   51.78   1.73    \n",
            "Test time         2.82    2.77    2.35    2.74    2.71    2.68    0.17    \n"
          ],
          "name": "stdout"
        },
        {
          "output_type": "execute_result",
          "data": {
            "text/plain": [
              "{'fit_time': (50.25301694869995,\n",
              "  51.18598914146423,\n",
              "  51.150800466537476,\n",
              "  55.173394203186035,\n",
              "  51.12203049659729),\n",
              " 'test_rmse': array([0.87280177, 0.87541449, 0.87450958, 0.87418007, 0.87312575]),\n",
              " 'test_time': (2.81990909576416,\n",
              "  2.767259359359741,\n",
              "  2.348268508911133,\n",
              "  2.742522954940796,\n",
              "  2.7103917598724365)}"
            ]
          },
          "metadata": {
            "tags": []
          },
          "execution_count": 95
        }
      ]
    },
    {
      "cell_type": "markdown",
      "metadata": {
        "id": "mpIWChj-xDuu",
        "colab_type": "text"
      },
      "source": [
        "- Root Mean Square Error of 0.8736 which is pretty good. \n",
        "\n",
        "\n",
        "- Now train on the dataset and arrive at predictions."
      ]
    },
    {
      "cell_type": "code",
      "metadata": {
        "id": "ZQ7Wkg9sxDuu",
        "colab_type": "code",
        "outputId": "4b1ac4a5-ed55-4af3-f2da-21e4b65b50a9",
        "colab": {
          "base_uri": "https://localhost:8080/",
          "height": 34
        }
      },
      "source": [
        "trainset = data.build_full_trainset()\n",
        "svd.fit(trainset)"
      ],
      "execution_count": 0,
      "outputs": [
        {
          "output_type": "execute_result",
          "data": {
            "text/plain": [
              "<surprise.prediction_algorithms.matrix_factorization.SVD at 0x7fb9cbd76518>"
            ]
          },
          "metadata": {
            "tags": []
          },
          "execution_count": 96
        }
      ]
    },
    {
      "cell_type": "markdown",
      "metadata": {
        "id": "9OTQyQaMxDux",
        "colab_type": "text"
      },
      "source": [
        "We'll pick again user with ID 1310 and check the ratings he has given."
      ]
    },
    {
      "cell_type": "code",
      "metadata": {
        "id": "IIzasPzixDux",
        "colab_type": "code",
        "outputId": "b609149e-5d56-4d80-bd83-d2f407f35645",
        "colab": {
          "base_uri": "https://localhost:8080/",
          "height": 195
        }
      },
      "source": [
        "ratings[ratings['user_id'] == 1310][:5]"
      ],
      "execution_count": 0,
      "outputs": [
        {
          "output_type": "execute_result",
          "data": {
            "text/html": [
              "<div>\n",
              "<style scoped>\n",
              "    .dataframe tbody tr th:only-of-type {\n",
              "        vertical-align: middle;\n",
              "    }\n",
              "\n",
              "    .dataframe tbody tr th {\n",
              "        vertical-align: top;\n",
              "    }\n",
              "\n",
              "    .dataframe thead th {\n",
              "        text-align: right;\n",
              "    }\n",
              "</style>\n",
              "<table border=\"1\" class=\"dataframe\">\n",
              "  <thead>\n",
              "    <tr style=\"text-align: right;\">\n",
              "      <th></th>\n",
              "      <th>user_id</th>\n",
              "      <th>movie_id</th>\n",
              "      <th>rating</th>\n",
              "    </tr>\n",
              "  </thead>\n",
              "  <tbody>\n",
              "    <tr>\n",
              "      <th>215928</th>\n",
              "      <td>1310</td>\n",
              "      <td>2988</td>\n",
              "      <td>3</td>\n",
              "    </tr>\n",
              "    <tr>\n",
              "      <th>215929</th>\n",
              "      <td>1310</td>\n",
              "      <td>1293</td>\n",
              "      <td>5</td>\n",
              "    </tr>\n",
              "    <tr>\n",
              "      <th>215930</th>\n",
              "      <td>1310</td>\n",
              "      <td>1295</td>\n",
              "      <td>2</td>\n",
              "    </tr>\n",
              "    <tr>\n",
              "      <th>215931</th>\n",
              "      <td>1310</td>\n",
              "      <td>1299</td>\n",
              "      <td>4</td>\n",
              "    </tr>\n",
              "    <tr>\n",
              "      <th>215932</th>\n",
              "      <td>1310</td>\n",
              "      <td>2243</td>\n",
              "      <td>4</td>\n",
              "    </tr>\n",
              "  </tbody>\n",
              "</table>\n",
              "</div>"
            ],
            "text/plain": [
              "        user_id  movie_id  rating\n",
              "215928     1310      2988       3\n",
              "215929     1310      1293       5\n",
              "215930     1310      1295       2\n",
              "215931     1310      1299       4\n",
              "215932     1310      2243       4"
            ]
          },
          "metadata": {
            "tags": []
          },
          "execution_count": 113
        }
      ]
    },
    {
      "cell_type": "markdown",
      "metadata": {
        "id": "y5CasPS8xDuz",
        "colab_type": "text"
      },
      "source": [
        "Now let's use SVD to predict the rating that User with ID 1310 will give to a random movie (let's say with Movie ID 1994)."
      ]
    },
    {
      "cell_type": "code",
      "metadata": {
        "id": "e9CI-HUNxDu0",
        "colab_type": "code",
        "outputId": "ef7ae365-dbea-4c8d-85fd-d7d99de09994",
        "colab": {
          "base_uri": "https://localhost:8080/",
          "height": 34
        }
      },
      "source": [
        "svd.predict(1310, 2988)"
      ],
      "execution_count": 0,
      "outputs": [
        {
          "output_type": "execute_result",
          "data": {
            "text/plain": [
              "Prediction(uid=1310, iid=2988, r_ui=None, est=3.3680773794422, details={'was_impossible': False})"
            ]
          },
          "metadata": {
            "tags": []
          },
          "execution_count": 117
        }
      ]
    },
    {
      "cell_type": "markdown",
      "metadata": {
        "id": "1DGkrKRjxDu4",
        "colab_type": "text"
      },
      "source": [
        "For movie with ID 1994, we get an estimated prediction of 3.349. The recommender system works purely on the basis of an assigned movie ID and tries to predict ratings based on how the other users have predicted the movie."
      ]
    },
    {
      "cell_type": "markdown",
      "metadata": {
        "id": "IJNpCL2IxDu5",
        "colab_type": "text"
      },
      "source": [
        "<a id=section9></a>\n",
        "# 9. Conclusion\n",
        "\n",
        "In this notebook, we attempted to build a movie recommendation sytem based on latent features from a low rank matrix factorization method called SVD. As it captures the underlying features driving the raw data, it can scale significantly better to massive datasets as well as make better recommendations based on user's tastes.\n",
        "\n",
        "However, we still likely lose some meaningful signals by using a low-rank approximation. Specifically, there's an interpretability problem as a singular vector specifies a linear combination of all input columns or rows. There's also a lack of sparsity when the singular vectors are quite dense. Thus, SVD approach is limited to linear projections."
      ]
    }
  ]
}